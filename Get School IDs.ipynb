{
 "metadata": {
  "name": ""
 },
 "nbformat": 3,
 "nbformat_minor": 0,
 "worksheets": [
  {
   "cells": [
    {
     "cell_type": "code",
     "collapsed": false,
     "input": [
      "# First, let's get all the SA postcodes - this file is from datalicious here but it's from 2010 http://blog.datalicious.com/free-download-all-australian-postcodes-geocod/\n",
      "\n",
      "import csv\n",
      "postcodes = set()\n",
      "with open('sapcodes.csv', 'rU') as csvfile:\n",
      "    spamreader = csv.reader(csvfile, delimiter=' ', quotechar='|')\n",
      "    for row in spamreader:\n",
      "        postcodes.add(row[0])"
     ],
     "language": "python",
     "metadata": {},
     "outputs": [],
     "prompt_number": 29
    },
    {
     "cell_type": "code",
     "collapsed": false,
     "input": [
      "#Now let's search each postcode and add the school id to our schools set\n",
      "\n",
      "import requests\n",
      "import json\n",
      "schools = set()\n",
      "for p in postcodes:\n",
      "    test = requests.get(\"http://www.myschool.edu.au/SchoolSearch/GlobalSearch?term=%s&count=1000\"%p)\n",
      "    for item in json.loads(test.content):\n",
      "        schools.add(item['SMCLID'])\n",
      "        print p,len(schools)"
     ],
     "language": "python",
     "metadata": {},
     "outputs": [
      {
       "output_type": "stream",
       "stream": "stdout",
       "text": [
        "5558 1\n",
        "5461"
       ]
      },
      {
       "output_type": "stream",
       "stream": "stdout",
       "text": [
        " 2\n",
        "5461 3\n",
        "5461 4\n",
        "5460"
       ]
      },
      {
       "output_type": "stream",
       "stream": "stdout",
       "text": [
        " 5\n",
        "5462"
       ]
      },
      {
       "output_type": "stream",
       "stream": "stdout",
       "text": [
        " 6\n",
        "5464"
       ]
      },
      {
       "output_type": "stream",
       "stream": "stdout",
       "text": [
        " 7\n",
        "5464 8\n",
        "5267"
       ]
      },
      {
       "output_type": "stream",
       "stream": "stdout",
       "text": [
        " 9\n",
        "5266"
       ]
      },
      {
       "output_type": "stream",
       "stream": "stdout",
       "text": [
        " 10\n",
        "5265"
       ]
      },
      {
       "output_type": "stream",
       "stream": "stdout",
       "text": [
        " 11\n",
        "5264"
       ]
      },
      {
       "output_type": "stream",
       "stream": "stdout",
       "text": [
        " 12\n",
        "5262"
       ]
      },
      {
       "output_type": "stream",
       "stream": "stdout",
       "text": [
        " 13\n",
        "5261"
       ]
      },
      {
       "output_type": "stream",
       "stream": "stdout",
       "text": [
        " 14\n",
        "5260"
       ]
      },
      {
       "output_type": "stream",
       "stream": "stdout",
       "text": [
        " 15\n",
        "5301"
       ]
      },
      {
       "output_type": "stream",
       "stream": "stdout",
       "text": [
        " 16\n",
        "5302"
       ]
      },
      {
       "output_type": "stream",
       "stream": "stdout",
       "text": [
        " 17\n",
        "5304"
       ]
      },
      {
       "output_type": "stream",
       "stream": "stdout",
       "text": [
        " 18\n",
        "5268"
       ]
      },
      {
       "output_type": "stream",
       "stream": "stdout",
       "text": [
        " 19\n",
        "5268 20\n",
        "5414"
       ]
      },
      {
       "output_type": "stream",
       "stream": "stdout",
       "text": [
        " 21\n",
        "5416"
       ]
      },
      {
       "output_type": "stream",
       "stream": "stdout",
       "text": [
        " 22\n",
        "5417"
       ]
      },
      {
       "output_type": "stream",
       "stream": "stdout",
       "text": [
        " 23\n",
        "5417 24\n",
        "5411"
       ]
      },
      {
       "output_type": "stream",
       "stream": "stdout",
       "text": [
        " 25\n",
        "5412"
       ]
      },
      {
       "output_type": "stream",
       "stream": "stdout",
       "text": [
        " 26\n",
        "5412 27\n",
        "5413"
       ]
      },
      {
       "output_type": "stream",
       "stream": "stdout",
       "text": [
        " 28\n",
        "5001"
       ]
      },
      {
       "output_type": "stream",
       "stream": "stdout",
       "text": [
        " 29\n",
        "5000"
       ]
      },
      {
       "output_type": "stream",
       "stream": "stdout",
       "text": [
        " 30\n",
        "5000 31\n",
        "5000 32\n",
        "5000 33\n",
        "5000 34\n",
        "5000 35\n",
        "5000 36\n",
        "5000 37\n",
        "5000 38\n",
        "5000 39\n",
        "5000 40\n",
        "5000 41\n",
        "5007"
       ]
      },
      {
       "output_type": "stream",
       "stream": "stdout",
       "text": [
        " 42\n",
        "5007 43\n",
        "5007 44\n",
        "5007 45\n",
        "5006"
       ]
      },
      {
       "output_type": "stream",
       "stream": "stdout",
       "text": [
        " 46\n",
        "5006 47\n",
        "5009"
       ]
      },
      {
       "output_type": "stream",
       "stream": "stdout",
       "text": [
        " 48\n",
        "5009 49\n",
        "5009 50\n",
        "5008"
       ]
      },
      {
       "output_type": "stream",
       "stream": "stdout",
       "text": [
        " 51\n",
        "5008 52\n",
        "5008 53\n",
        "5008 54\n",
        "5008 55\n",
        "5670"
       ]
      },
      {
       "output_type": "stream",
       "stream": "stdout",
       "text": [
        " 56\n",
        "5671"
       ]
      },
      {
       "output_type": "stream",
       "stream": "stdout",
       "text": [
        " 57\n",
        "5577"
       ]
      },
      {
       "output_type": "stream",
       "stream": "stdout",
       "text": [
        " 58\n",
        "5576"
       ]
      },
      {
       "output_type": "stream",
       "stream": "stdout",
       "text": [
        " 59\n",
        "5576 60\n",
        "5575"
       ]
      },
      {
       "output_type": "stream",
       "stream": "stdout",
       "text": [
        " 61\n",
        "5573"
       ]
      },
      {
       "output_type": "stream",
       "stream": "stdout",
       "text": [
        " 62\n",
        "5573 63\n",
        "5573 64\n",
        "5571"
       ]
      },
      {
       "output_type": "stream",
       "stream": "stdout",
       "text": [
        " 65\n",
        "5138"
       ]
      },
      {
       "output_type": "stream",
       "stream": "stdout",
       "text": [
        " 66\n",
        "5136"
       ]
      },
      {
       "output_type": "stream",
       "stream": "stdout",
       "text": [
        " 67\n",
        "5132"
       ]
      },
      {
       "output_type": "stream",
       "stream": "stdout",
       "text": [
        " 68\n",
        "5131"
       ]
      },
      {
       "output_type": "stream",
       "stream": "stdout",
       "text": [
        " 69\n",
        "5700"
       ]
      },
      {
       "output_type": "stream",
       "stream": "stdout",
       "text": [
        " 70\n",
        "5700 71\n",
        "5700 72\n",
        "5700 73\n",
        "5700 74\n",
        "5700 75\n",
        "5700 76\n",
        "5700 77\n",
        "5700 78\n",
        "5223"
       ]
      },
      {
       "output_type": "stream",
       "stream": "stdout",
       "text": [
        " 79\n",
        "5223 80\n",
        "5222"
       ]
      },
      {
       "output_type": "stream",
       "stream": "stdout",
       "text": [
        " 81\n",
        "5220"
       ]
      },
      {
       "output_type": "stream",
       "stream": "stdout",
       "text": [
        " 82\n",
        "5357"
       ]
      },
      {
       "output_type": "stream",
       "stream": "stdout",
       "text": [
        " 83\n",
        "5356"
       ]
      },
      {
       "output_type": "stream",
       "stream": "stdout",
       "text": [
        " 84\n",
        "5355"
       ]
      },
      {
       "output_type": "stream",
       "stream": "stdout",
       "text": [
        " 85\n",
        "5355 86\n",
        "5355 87\n",
        "5355 88\n",
        "5354"
       ]
      },
      {
       "output_type": "stream",
       "stream": "stdout",
       "text": [
        " 89\n",
        "5353"
       ]
      },
      {
       "output_type": "stream",
       "stream": "stdout",
       "text": [
        " 90\n",
        "5353 91\n",
        "5353 92\n",
        "5353 93\n",
        "5352"
       ]
      },
      {
       "output_type": "stream",
       "stream": "stdout",
       "text": [
        " 94\n",
        "5352 95\n",
        "5352 96\n",
        "5351"
       ]
      },
      {
       "output_type": "stream",
       "stream": "stdout",
       "text": [
        " 97\n",
        "5351 98\n",
        "5351 99\n",
        "5351 100\n",
        "5451"
       ]
      },
      {
       "output_type": "stream",
       "stream": "stdout",
       "text": [
        " 101\n",
        "5452"
       ]
      },
      {
       "output_type": "stream",
       "stream": "stdout",
       "text": [
        " 102\n",
        "5453"
       ]
      },
      {
       "output_type": "stream",
       "stream": "stdout",
       "text": [
        " 103\n",
        "5453 104\n",
        "5453 105\n",
        "5453 106\n",
        "5454"
       ]
      },
      {
       "output_type": "stream",
       "stream": "stdout",
       "text": [
        " 107\n",
        "5142"
       ]
      },
      {
       "output_type": "stream",
       "stream": "stdout",
       "text": [
        " 108\n",
        "5173"
       ]
      },
      {
       "output_type": "stream",
       "stream": "stdout",
       "text": [
        " 109\n",
        "5173 110\n",
        "5173 111\n",
        "5172"
       ]
      },
      {
       "output_type": "stream",
       "stream": "stdout",
       "text": [
        " 112\n",
        "5172 113\n",
        "5172 114\n",
        "5171"
       ]
      },
      {
       "output_type": "stream",
       "stream": "stdout",
       "text": [
        " 115\n",
        "5171 116\n",
        "5171 117\n",
        "5072"
       ]
      },
      {
       "output_type": "stream",
       "stream": "stdout",
       "text": [
        " 118\n",
        "5072 119\n",
        "5072 120\n",
        "5072 121\n",
        "5073"
       ]
      },
      {
       "output_type": "stream",
       "stream": "stdout",
       "text": [
        " 122\n",
        "5073 123\n",
        "5073 124\n",
        "5073 125\n",
        "5073 126\n",
        "5070"
       ]
      },
      {
       "output_type": "stream",
       "stream": "stdout",
       "text": [
        " 127\n",
        "5070 128\n",
        "5070 129\n",
        "5070 130\n",
        "5076"
       ]
      },
      {
       "output_type": "stream",
       "stream": "stdout",
       "text": [
        " 131\n",
        "5076 132\n",
        "5076 133\n",
        "5074"
       ]
      },
      {
       "output_type": "stream",
       "stream": "stdout",
       "text": [
        " 134\n",
        "5074 135\n",
        "5075"
       ]
      },
      {
       "output_type": "stream",
       "stream": "stdout",
       "text": [
        " 136\n",
        "5075 137\n",
        "5075 138\n",
        "5075 139\n",
        "5582"
       ]
      },
      {
       "output_type": "stream",
       "stream": "stdout",
       "text": [
        " 140\n",
        "5583"
       ]
      },
      {
       "output_type": "stream",
       "stream": "stdout",
       "text": [
        " 141\n",
        "5580"
       ]
      },
      {
       "output_type": "stream",
       "stream": "stdout",
       "text": [
        " 142\n",
        "5581"
       ]
      },
      {
       "output_type": "stream",
       "stream": "stdout",
       "text": [
        " 143\n",
        "5309"
       ]
      },
      {
       "output_type": "stream",
       "stream": "stdout",
       "text": [
        " 144\n",
        "5690"
       ]
      },
      {
       "output_type": "stream",
       "stream": "stdout",
       "text": [
        " 145\n",
        "5690 146\n",
        "5690 147\n",
        "5690 148\n",
        "5690 149\n",
        "5690 150\n",
        "5690 151\n",
        "5307"
       ]
      },
      {
       "output_type": "stream",
       "stream": "stdout",
       "text": [
        " 152\n",
        "5491"
       ]
      },
      {
       "output_type": "stream",
       "stream": "stdout",
       "text": [
        " 153\n",
        "5491 154\n",
        "5252"
       ]
      },
      {
       "output_type": "stream",
       "stream": "stdout",
       "text": [
        " 155\n",
        "5253"
       ]
      },
      {
       "output_type": "stream",
       "stream": "stdout",
       "text": [
        " 156\n",
        "5253 157\n",
        "5253 158\n",
        "5253 159\n",
        "5253 160\n",
        "5253 161\n",
        "5253 162\n",
        "5253 163\n",
        "5250"
       ]
      },
      {
       "output_type": "stream",
       "stream": "stdout",
       "text": [
        " 164\n",
        "5251"
       ]
      },
      {
       "output_type": "stream",
       "stream": "stdout",
       "text": [
        " 165\n",
        "5251 166\n",
        "5251 167\n",
        "5251 168\n",
        "5251 169\n",
        "5251 170\n",
        "5251 171\n",
        "5256"
       ]
      },
      {
       "output_type": "stream",
       "stream": "stdout",
       "text": [
        " 172\n",
        "5254"
       ]
      },
      {
       "output_type": "stream",
       "stream": "stdout",
       "text": [
        " 173\n",
        "5254 174\n",
        "5255"
       ]
      },
      {
       "output_type": "stream",
       "stream": "stdout",
       "text": [
        " 175\n",
        "5255 176\n",
        "5255 177\n",
        "5255 178\n",
        "5255 179\n",
        "5259"
       ]
      },
      {
       "output_type": "stream",
       "stream": "stdout",
       "text": [
        " 180\n",
        "5259 181\n",
        "5401"
       ]
      },
      {
       "output_type": "stream",
       "stream": "stdout",
       "text": [
        " 182\n",
        "5400"
       ]
      },
      {
       "output_type": "stream",
       "stream": "stdout",
       "text": [
        " 183\n",
        "5038"
       ]
      },
      {
       "output_type": "stream",
       "stream": "stdout",
       "text": [
        " 184\n",
        "5038 185\n",
        "5038 186\n",
        "5038 187\n",
        "5038 188\n",
        "5039"
       ]
      },
      {
       "output_type": "stream",
       "stream": "stdout",
       "text": [
        " 189\n",
        "5039 190\n",
        "5034"
       ]
      },
      {
       "output_type": "stream",
       "stream": "stdout",
       "text": [
        " 191\n",
        "5034 192\n",
        "5034 193\n",
        "5035"
       ]
      },
      {
       "output_type": "stream",
       "stream": "stdout",
       "text": [
        " 194\n",
        "5035 195\n",
        "5035 196\n",
        "5032"
       ]
      },
      {
       "output_type": "stream",
       "stream": "stdout",
       "text": [
        " 197\n",
        "5032 198\n",
        "5032 199\n",
        "5032 200\n",
        "5032 201\n",
        "5033"
       ]
      },
      {
       "output_type": "stream",
       "stream": "stdout",
       "text": [
        " 202\n",
        "5033 203\n",
        "5033 204\n",
        "5031"
       ]
      },
      {
       "output_type": "stream",
       "stream": "stdout",
       "text": [
        " 205\n",
        "5031 206\n",
        "5031 207\n",
        "5031 208\n",
        "5031 209\n",
        "5661"
       ]
      },
      {
       "output_type": "stream",
       "stream": "stdout",
       "text": [
        " 210\n",
        "5540"
       ]
      },
      {
       "output_type": "stream",
       "stream": "stdout",
       "text": [
        " 211\n",
        "5540 212\n",
        "5540 213\n",
        "5540 214\n",
        "5540 215\n",
        "5540 216\n",
        "5540 217\n",
        "5540 218\n",
        "5540 219\n",
        "5540 220\n",
        "5108"
       ]
      },
      {
       "output_type": "stream",
       "stream": "stdout",
       "text": [
        " 221\n",
        "5108 222\n",
        "5108 223\n",
        "5108 224\n",
        "5108 225\n",
        "5108 226\n",
        "5108 227\n",
        "5108 228\n",
        "5108 229\n",
        "5108 230\n",
        "5108 231\n",
        "5108 232\n",
        "5108 233\n",
        "5109"
       ]
      },
      {
       "output_type": "stream",
       "stream": "stdout",
       "text": [
        " 234\n",
        "5109 235\n",
        "5109 236\n",
        "5109 237\n",
        "5109 238\n",
        "5109 239\n",
        "5109 240\n",
        "5107"
       ]
      },
      {
       "output_type": "stream",
       "stream": "stdout",
       "text": [
        " 241\n",
        "5107 242\n",
        "5107 243\n",
        "5107 244\n",
        "5107 245\n",
        "5710"
       ]
      },
      {
       "output_type": "stream",
       "stream": "stdout",
       "text": [
        " 246\n",
        "5214"
       ]
      },
      {
       "output_type": "stream",
       "stream": "stdout",
       "text": [
        " 247\n",
        "5214 248\n",
        "5212"
       ]
      },
      {
       "output_type": "stream",
       "stream": "stdout",
       "text": [
        " 249\n",
        "5210"
       ]
      },
      {
       "output_type": "stream",
       "stream": "stdout",
       "text": [
        " 250\n",
        "5211"
       ]
      },
      {
       "output_type": "stream",
       "stream": "stdout",
       "text": [
        " 251\n",
        "5211 252\n",
        "5211 253\n",
        "5211 254\n",
        "5360"
       ]
      },
      {
       "output_type": "stream",
       "stream": "stdout",
       "text": [
        " 255\n",
        "5440"
       ]
      },
      {
       "output_type": "stream",
       "stream": "stdout",
       "text": [
        " 256\n",
        "5502"
       ]
      },
      {
       "output_type": "stream",
       "stream": "stdout",
       "text": [
        " 257\n",
        "5501"
       ]
      },
      {
       "output_type": "stream",
       "stream": "stdout",
       "text": [
        " 258\n",
        "5065"
       ]
      },
      {
       "output_type": "stream",
       "stream": "stdout",
       "text": [
        " 259\n",
        "5065 260\n",
        "5064"
       ]
      },
      {
       "output_type": "stream",
       "stream": "stdout",
       "text": [
        " 261\n",
        "5064 262\n",
        "5064 263\n",
        "5067"
       ]
      },
      {
       "output_type": "stream",
       "stream": "stdout",
       "text": [
        " 264\n",
        "5067 265\n",
        "5067 266\n",
        "5067 267\n",
        "5067 268\n",
        "5066"
       ]
      },
      {
       "output_type": "stream",
       "stream": "stdout",
       "text": [
        " 269\n",
        "5066 270\n",
        "5061"
       ]
      },
      {
       "output_type": "stream",
       "stream": "stdout",
       "text": [
        " 271\n",
        "5061 272\n",
        "5061 273\n",
        "5061 274\n",
        "5063"
       ]
      },
      {
       "output_type": "stream",
       "stream": "stdout",
       "text": [
        " 275\n",
        "5063 276\n",
        "5063 277\n",
        "5063 278\n",
        "5063 279\n",
        "5063 280\n",
        "5062"
       ]
      },
      {
       "output_type": "stream",
       "stream": "stdout",
       "text": [
        " 281\n",
        "5062 282\n",
        "5062 283\n",
        "5062 284\n",
        "5062 285\n",
        "5062 286\n",
        "5062 287\n",
        "5062 288\n",
        "5062 289\n",
        "5069"
       ]
      },
      {
       "output_type": "stream",
       "stream": "stdout",
       "text": [
        " 290\n",
        "5069 291\n",
        "5068"
       ]
      },
      {
       "output_type": "stream",
       "stream": "stdout",
       "text": [
        " 292\n",
        "5068 293\n",
        "5068 294\n",
        "5068 295\n",
        "5068 296\n",
        "5068 297\n",
        "5068 298\n",
        "5068 299\n",
        "5068 300\n",
        "5068 301\n",
        "5098"
       ]
      },
      {
       "output_type": "stream",
       "stream": "stdout",
       "text": [
        " 302\n",
        "5098 303\n",
        "5098 304\n",
        "5090"
       ]
      },
      {
       "output_type": "stream",
       "stream": "stdout",
       "text": [
        " 305\n",
        "5090 306\n",
        "5090 307\n",
        "5090 308\n",
        "5091"
       ]
      },
      {
       "output_type": "stream",
       "stream": "stdout",
       "text": [
        " 309\n",
        "5091 310\n",
        "5091 311\n",
        "5091 312\n",
        "5092"
       ]
      },
      {
       "output_type": "stream",
       "stream": "stdout",
       "text": [
        " 313\n",
        "5092 314\n",
        "5092 315\n",
        "5092 316\n",
        "5093"
       ]
      },
      {
       "output_type": "stream",
       "stream": "stdout",
       "text": [
        " 317\n",
        "5093 318\n",
        "5093 319\n",
        "5093 320\n",
        "5094"
       ]
      },
      {
       "output_type": "stream",
       "stream": "stdout",
       "text": [
        " 321\n",
        "5094 322\n",
        "5094 323\n",
        "5095"
       ]
      },
      {
       "output_type": "stream",
       "stream": "stdout",
       "text": [
        " 324\n",
        "5095 325\n",
        "5095 326\n",
        "5096"
       ]
      },
      {
       "output_type": "stream",
       "stream": "stdout",
       "text": [
        " 327\n",
        "5096 328\n",
        "5096 329\n",
        "5096 330\n",
        "5096 331\n",
        "5097"
       ]
      },
      {
       "output_type": "stream",
       "stream": "stdout",
       "text": [
        " 332\n",
        "5097 333\n",
        "5097 334\n",
        "5097 335\n",
        "5680"
       ]
      },
      {
       "output_type": "stream",
       "stream": "stdout",
       "text": [
        " 336\n",
        "5322"
       ]
      },
      {
       "output_type": "stream",
       "stream": "stdout",
       "text": [
        " 337\n",
        "5320"
       ]
      },
      {
       "output_type": "stream",
       "stream": "stdout",
       "text": [
        " 338\n",
        "5321"
       ]
      },
      {
       "output_type": "stream",
       "stream": "stdout",
       "text": [
        " 339\n",
        "5485"
       ]
      },
      {
       "output_type": "stream",
       "stream": "stdout",
       "text": [
        " 340\n",
        "5483"
       ]
      },
      {
       "output_type": "stream",
       "stream": "stdout",
       "text": [
        " 341\n",
        "5482"
       ]
      },
      {
       "output_type": "stream",
       "stream": "stdout",
       "text": [
        " 342\n",
        "5481"
       ]
      },
      {
       "output_type": "stream",
       "stream": "stdout",
       "text": [
        " 343\n",
        "5480"
       ]
      },
      {
       "output_type": "stream",
       "stream": "stdout",
       "text": [
        " 344\n",
        "5245"
       ]
      },
      {
       "output_type": "stream",
       "stream": "stdout",
       "text": [
        " 345\n",
        "5245 346\n",
        "5245 347\n",
        "5244"
       ]
      },
      {
       "output_type": "stream",
       "stream": "stdout",
       "text": [
        " 348\n",
        "5244 349\n",
        "5244 350\n",
        "5241"
       ]
      },
      {
       "output_type": "stream",
       "stream": "stdout",
       "text": [
        " 351\n",
        "5241 352\n",
        "5240"
       ]
      },
      {
       "output_type": "stream",
       "stream": "stdout",
       "text": [
        " 353\n",
        "5243"
       ]
      },
      {
       "output_type": "stream",
       "stream": "stdout",
       "text": [
        " 354\n",
        "5243 355\n",
        "5371"
       ]
      },
      {
       "output_type": "stream",
       "stream": "stdout",
       "text": [
        " 356\n",
        "5433"
       ]
      },
      {
       "output_type": "stream",
       "stream": "stdout",
       "text": [
        " 357\n",
        "5431"
       ]
      },
      {
       "output_type": "stream",
       "stream": "stdout",
       "text": [
        " 358\n",
        "5434"
       ]
      },
      {
       "output_type": "stream",
       "stream": "stdout",
       "text": [
        " 359\n",
        "5020"
       ]
      },
      {
       "output_type": "stream",
       "stream": "stdout",
       "text": [
        " 360\n",
        "5023"
       ]
      },
      {
       "output_type": "stream",
       "stream": "stdout",
       "text": [
        " 361\n",
        "5023 362\n",
        "5023 363\n",
        "5023 364\n",
        "5022"
       ]
      },
      {
       "output_type": "stream",
       "stream": "stdout",
       "text": [
        " 365\n",
        "5022 366\n",
        "5022 367\n",
        "5022 368\n",
        "5022 369\n",
        "5022 370\n",
        "5022 371\n",
        "5025"
       ]
      },
      {
       "output_type": "stream",
       "stream": "stdout",
       "text": [
        " 372\n",
        "5025 373\n",
        "5025 374\n",
        "5025 375\n",
        "5024"
       ]
      },
      {
       "output_type": "stream",
       "stream": "stdout",
       "text": [
        " 376\n",
        "5554"
       ]
      },
      {
       "output_type": "stream",
       "stream": "stdout",
       "text": [
        " 377\n",
        "5554 378\n",
        "5554 379\n",
        "5556"
       ]
      },
      {
       "output_type": "stream",
       "stream": "stdout",
       "text": [
        " 380\n",
        "5556 381\n",
        "5550"
       ]
      },
      {
       "output_type": "stream",
       "stream": "stdout",
       "text": [
        " 382\n",
        "5654"
       ]
      },
      {
       "output_type": "stream",
       "stream": "stdout",
       "text": [
        " 383\n",
        "5652"
       ]
      },
      {
       "output_type": "stream",
       "stream": "stdout",
       "text": [
        " 384\n",
        "5115"
       ]
      },
      {
       "output_type": "stream",
       "stream": "stdout",
       "text": [
        " 385\n",
        "5115 386\n",
        "5114"
       ]
      },
      {
       "output_type": "stream",
       "stream": "stdout",
       "text": [
        " 387\n",
        "5114 388\n",
        "5114 389\n",
        "5114 390\n",
        "5114 391\n",
        "5114 392\n",
        "5114 393\n",
        "5114 394\n",
        "5114 395\n",
        "5114 396\n",
        "5114 397\n",
        "5117"
       ]
      },
      {
       "output_type": "stream",
       "stream": "stdout",
       "text": [
        " 398\n",
        "5117 399\n",
        "5116"
       ]
      },
      {
       "output_type": "stream",
       "stream": "stdout",
       "text": [
        " 400\n",
        "5116 401\n",
        "5116 402\n",
        "5116 403\n",
        "5116 404\n",
        "5116 405\n",
        "5110"
       ]
      },
      {
       "output_type": "stream",
       "stream": "stdout",
       "text": [
        " 406\n",
        "5113"
       ]
      },
      {
       "output_type": "stream",
       "stream": "stdout",
       "text": [
        " 407\n",
        "5113 408\n",
        "5113 409\n",
        "5113 410\n",
        "5113 411\n",
        "5113 412\n",
        "5113 413\n",
        "5113 414\n",
        "5112"
       ]
      },
      {
       "output_type": "stream",
       "stream": "stdout",
       "text": [
        " 415\n",
        "5112 416\n",
        "5112 417\n",
        "5112 418\n",
        "5112 419\n",
        "5112 420\n",
        "5112 421\n",
        "5112 422\n",
        "5112 423\n",
        "5118"
       ]
      },
      {
       "output_type": "stream",
       "stream": "stdout",
       "text": [
        " 424\n",
        "5118 425\n",
        "5118 426\n",
        "5118 427\n",
        "5118 428\n",
        "5290"
       ]
      },
      {
       "output_type": "stream",
       "stream": "stdout",
       "text": [
        " 429\n",
        "5290 430\n",
        "5290 431\n",
        "5290 432\n",
        "5290 433\n",
        "5290 434\n",
        "5290 435\n",
        "5290 436\n",
        "5290 437\n",
        "5290 438\n",
        "5290 439\n",
        "5291"
       ]
      },
      {
       "output_type": "stream",
       "stream": "stdout",
       "text": [
        " 440\n",
        "5291 441\n",
        "5291 442\n",
        "5291 443\n",
        "5291 444\n",
        "5291 445\n",
        "5291 446\n",
        "5291 447\n",
        "5291 448\n",
        "5050"
       ]
      },
      {
       "output_type": "stream",
       "stream": "stdout",
       "text": [
        " 449\n",
        "5050 450\n",
        "5050 451\n",
        "5050 452\n",
        "5051"
       ]
      },
      {
       "output_type": "stream",
       "stream": "stdout",
       "text": [
        " 453\n",
        "5051 454\n",
        "5051 455\n",
        "5052"
       ]
      },
      {
       "output_type": "stream",
       "stream": "stdout",
       "text": [
        " 456\n",
        "5052 457\n",
        "5052 458\n",
        "5722"
       ]
      },
      {
       "output_type": "stream",
       "stream": "stdout",
       "text": [
        " 459\n",
        "5723"
       ]
      },
      {
       "output_type": "stream",
       "stream": "stdout",
       "text": [
        " 460\n",
        "5720"
       ]
      },
      {
       "output_type": "stream",
       "stream": "stdout",
       "text": [
        " 461\n",
        "5724"
       ]
      },
      {
       "output_type": "stream",
       "stream": "stdout",
       "text": [
        " 462\n",
        "5725"
       ]
      },
      {
       "output_type": "stream",
       "stream": "stdout",
       "text": [
        " 463\n",
        "5725 464\n",
        "5201"
       ]
      },
      {
       "output_type": "stream",
       "stream": "stdout",
       "text": [
        " 465\n",
        "5203"
       ]
      },
      {
       "output_type": "stream",
       "stream": "stdout",
       "text": [
        " 466\n",
        "5202"
       ]
      },
      {
       "output_type": "stream",
       "stream": "stdout",
       "text": [
        " 467\n",
        "5204"
       ]
      },
      {
       "output_type": "stream",
       "stream": "stdout",
       "text": [
        " 468\n",
        "5472"
       ]
      },
      {
       "output_type": "stream",
       "stream": "stdout",
       "text": [
        " 469\n",
        "5473"
       ]
      },
      {
       "output_type": "stream",
       "stream": "stdout",
       "text": [
        " 470\n",
        "5473 471\n",
        "5473 472\n",
        "5275"
       ]
      },
      {
       "output_type": "stream",
       "stream": "stdout",
       "text": [
        " 473\n",
        "5276"
       ]
      },
      {
       "output_type": "stream",
       "stream": "stdout",
       "text": [
        " 474\n",
        "5277"
       ]
      },
      {
       "output_type": "stream",
       "stream": "stdout",
       "text": [
        " 475\n",
        "5277 476\n",
        "5277 477\n",
        "5277 478\n",
        "5270"
       ]
      },
      {
       "output_type": "stream",
       "stream": "stdout",
       "text": [
        " 479\n",
        "5271"
       ]
      },
      {
       "output_type": "stream",
       "stream": "stdout",
       "text": [
        " 480\n",
        "5271 481\n",
        "5271 482\n",
        "5271 483\n",
        "5271 484\n",
        "5272"
       ]
      },
      {
       "output_type": "stream",
       "stream": "stdout",
       "text": [
        " 485\n",
        "5374"
       ]
      },
      {
       "output_type": "stream",
       "stream": "stdout",
       "text": [
        " 486\n",
        "5374 487\n",
        "5278"
       ]
      },
      {
       "output_type": "stream",
       "stream": "stdout",
       "text": [
        " 488\n",
        "5279"
       ]
      },
      {
       "output_type": "stream",
       "stream": "stdout",
       "text": [
        " 489\n",
        "5373"
       ]
      },
      {
       "output_type": "stream",
       "stream": "stdout",
       "text": [
        " 490\n",
        "5373 491\n",
        "5372"
       ]
      },
      {
       "output_type": "stream",
       "stream": "stdout",
       "text": [
        " 492\n",
        "5011"
       ]
      },
      {
       "output_type": "stream",
       "stream": "stdout",
       "text": [
        " 493\n",
        "5011 494\n",
        "5011 495\n",
        "5011 496\n",
        "5012"
       ]
      },
      {
       "output_type": "stream",
       "stream": "stdout",
       "text": [
        " 497\n",
        "5012 498\n",
        "5013"
       ]
      },
      {
       "output_type": "stream",
       "stream": "stdout",
       "text": [
        " 499\n",
        "5013 500\n",
        "5013 501\n",
        "5013 502\n",
        "5013 503\n",
        "5014"
       ]
      },
      {
       "output_type": "stream",
       "stream": "stdout",
       "text": [
        " 504\n",
        "5014 505\n",
        "5014 506\n",
        "5015"
       ]
      },
      {
       "output_type": "stream",
       "stream": "stdout",
       "text": [
        " 507\n",
        "5015 508\n",
        "5016"
       ]
      },
      {
       "output_type": "stream",
       "stream": "stdout",
       "text": [
        " 509\n",
        "5017"
       ]
      },
      {
       "output_type": "stream",
       "stream": "stdout",
       "text": [
        " 510\n",
        "5017 511\n",
        "5017 512\n",
        "5018"
       ]
      },
      {
       "output_type": "stream",
       "stream": "stdout",
       "text": [
        " 513\n",
        "5019"
       ]
      },
      {
       "output_type": "stream",
       "stream": "stdout",
       "text": [
        " 514\n",
        "5019 515\n",
        "5019 516\n",
        "5153"
       ]
      },
      {
       "output_type": "stream",
       "stream": "stdout",
       "text": [
        " 517\n",
        "5153 518\n",
        "5153 519\n",
        "5153 520\n",
        "5153 521\n",
        "5153 522\n",
        "5152"
       ]
      },
      {
       "output_type": "stream",
       "stream": "stdout",
       "text": [
        " 523\n",
        "5152 524\n",
        "5152 525\n",
        "5155"
       ]
      },
      {
       "output_type": "stream",
       "stream": "stdout",
       "text": [
        " 526\n",
        "5154"
       ]
      },
      {
       "output_type": "stream",
       "stream": "stdout",
       "text": [
        " 527\n",
        "5154 528\n",
        "5154 529\n",
        "5157"
       ]
      },
      {
       "output_type": "stream",
       "stream": "stdout",
       "text": [
        " 530\n",
        "5157 531\n",
        "5157 532\n",
        "5156"
       ]
      },
      {
       "output_type": "stream",
       "stream": "stdout",
       "text": [
        " 533\n",
        "5605"
       ]
      },
      {
       "output_type": "stream",
       "stream": "stdout",
       "text": [
        " 534\n",
        "5604"
       ]
      },
      {
       "output_type": "stream",
       "stream": "stdout",
       "text": [
        " 535\n",
        "5607"
       ]
      },
      {
       "output_type": "stream",
       "stream": "stdout",
       "text": [
        " 536\n",
        "5607 537\n",
        "5607 538\n",
        "5606"
       ]
      },
      {
       "output_type": "stream",
       "stream": "stdout",
       "text": [
        " 539\n",
        "5606 540\n",
        "5606 541\n",
        "5606 542\n",
        "5606 543\n",
        "5606 544\n",
        "5606 545\n",
        "5606 546\n",
        "5600"
       ]
      },
      {
       "output_type": "stream",
       "stream": "stdout",
       "text": [
        " 547\n",
        "5600 548\n",
        "5600 549\n",
        "5600 550\n",
        "5600 551\n",
        "5602"
       ]
      },
      {
       "output_type": "stream",
       "stream": "stdout",
       "text": [
        " 552\n",
        "5608"
       ]
      },
      {
       "output_type": "stream",
       "stream": "stdout",
       "text": [
        " 553\n",
        "5608 554\n",
        "5608 555\n",
        "5608 556\n",
        "5608 557\n",
        "5608 558\n",
        "5608 559\n",
        "5608 560\n",
        "5608 561\n",
        "5608 562\n",
        "5560"
       ]
      },
      {
       "output_type": "stream",
       "stream": "stdout",
       "text": [
        " 563\n",
        "5280"
       ]
      },
      {
       "output_type": "stream",
       "stream": "stdout",
       "text": [
        " 564\n",
        "5280 565\n",
        "5280 566\n",
        "5280 567\n",
        "5280 568\n",
        "5280 569\n",
        "5280 570\n",
        "5280 571\n",
        "5125"
       ]
      },
      {
       "output_type": "stream",
       "stream": "stdout",
       "text": [
        " 572\n",
        "5125 573\n",
        "5125 574\n",
        "5125 575\n",
        "5125 576\n",
        "5125 577\n",
        "5125 578\n",
        "5126"
       ]
      },
      {
       "output_type": "stream",
       "stream": "stdout",
       "text": [
        " 579\n",
        "5126 580\n",
        "5127"
       ]
      },
      {
       "output_type": "stream",
       "stream": "stdout",
       "text": [
        " 581\n",
        "5127 582\n",
        "5127 583\n",
        "5127 584\n",
        "5127 585\n",
        "5120"
       ]
      },
      {
       "output_type": "stream",
       "stream": "stdout",
       "text": [
        " 586\n",
        "5088"
       ]
      },
      {
       "output_type": "stream",
       "stream": "stdout",
       "text": [
        " 587\n",
        "5083"
       ]
      },
      {
       "output_type": "stream",
       "stream": "stdout",
       "text": [
        " 588\n",
        "5082"
       ]
      },
      {
       "output_type": "stream",
       "stream": "stdout",
       "text": [
        " 589\n",
        "5082 590\n",
        "5082 591\n",
        "5082 592\n",
        "5082 593\n",
        "5081"
       ]
      },
      {
       "output_type": "stream",
       "stream": "stdout",
       "text": [
        " 594\n",
        "5081 595\n",
        "5081 596\n",
        "5081 597\n",
        "5081 598\n",
        "5087"
       ]
      },
      {
       "output_type": "stream",
       "stream": "stdout",
       "text": [
        " 599\n",
        "5087 600\n",
        "5087 601\n",
        "5086"
       ]
      },
      {
       "output_type": "stream",
       "stream": "stdout",
       "text": [
        " 602\n",
        "5086 603\n",
        "5086 604\n",
        "5086 605\n",
        "5086 606\n",
        "5086 607\n",
        "5086 608\n",
        "5086 609\n",
        "5085"
       ]
      },
      {
       "output_type": "stream",
       "stream": "stdout",
       "text": [
        " 610\n",
        "5085 611\n",
        "5085 612\n",
        "5085 613\n",
        "5085 614\n",
        "5084"
       ]
      },
      {
       "output_type": "stream",
       "stream": "stdout",
       "text": [
        " 615\n",
        "5084 616\n",
        "5084 617\n",
        "5159"
       ]
      },
      {
       "output_type": "stream",
       "stream": "stdout",
       "text": [
        " 618\n",
        "5159 619\n",
        "5159 620\n",
        "5159 621\n",
        "5159 622\n",
        "5159 623\n",
        "5159 624\n",
        "5159 625\n",
        "5159 626\n",
        "5159 627\n",
        "5159 628\n",
        "5049"
       ]
      },
      {
       "output_type": "stream",
       "stream": "stdout",
       "text": [
        " 629\n",
        "5049 630\n",
        "5158"
       ]
      },
      {
       "output_type": "stream",
       "stream": "stdout",
       "text": [
        " 631\n",
        "5158 632\n",
        "5158 633\n",
        "5158 634\n",
        "5158 635\n",
        "5158 636\n",
        "5331"
       ]
      },
      {
       "output_type": "stream",
       "stream": "stdout",
       "text": [
        " 637\n",
        "5330"
       ]
      },
      {
       "output_type": "stream",
       "stream": "stdout",
       "text": [
        " 638\n",
        "5330 639\n",
        "5330 640\n",
        "5333"
       ]
      },
      {
       "output_type": "stream",
       "stream": "stdout",
       "text": [
        " 641\n",
        "5333 642\n",
        "5333 643\n",
        "5333 644\n",
        "5333 645\n",
        "5332"
       ]
      },
      {
       "output_type": "stream",
       "stream": "stdout",
       "text": [
        " 646\n",
        "5238"
       ]
      },
      {
       "output_type": "stream",
       "stream": "stdout",
       "text": [
        " 647\n",
        "5231"
       ]
      },
      {
       "output_type": "stream",
       "stream": "stdout",
       "text": [
        " 648\n",
        "5233"
       ]
      },
      {
       "output_type": "stream",
       "stream": "stdout",
       "text": [
        " 649\n",
        "5234"
       ]
      },
      {
       "output_type": "stream",
       "stream": "stdout",
       "text": [
        " 650\n",
        "5234 651\n",
        "5235"
       ]
      },
      {
       "output_type": "stream",
       "stream": "stdout",
       "text": [
        " 652\n",
        "5235 653\n",
        "5237"
       ]
      },
      {
       "output_type": "stream",
       "stream": "stdout",
       "text": [
        " 654\n",
        "5344"
       ]
      },
      {
       "output_type": "stream",
       "stream": "stdout",
       "text": [
        " 655\n",
        "5344 656\n",
        "5344 657\n",
        "5344 658\n",
        "5345"
       ]
      },
      {
       "output_type": "stream",
       "stream": "stdout",
       "text": [
        " 659\n",
        "5345 660\n",
        "5346"
       ]
      },
      {
       "output_type": "stream",
       "stream": "stdout",
       "text": [
        " 661\n",
        "5341"
       ]
      },
      {
       "output_type": "stream",
       "stream": "stdout",
       "text": [
        " 662\n",
        "5341 663\n",
        "5341 664\n",
        "5341 665\n",
        "5341 666\n",
        "5342"
       ]
      },
      {
       "output_type": "stream",
       "stream": "stdout",
       "text": [
        " 667\n",
        "5343"
       ]
      },
      {
       "output_type": "stream",
       "stream": "stdout",
       "text": [
        " 668\n",
        "5343 669\n",
        "5343 670\n",
        "5343 671\n",
        "5343 672\n",
        "5422"
       ]
      },
      {
       "output_type": "stream",
       "stream": "stdout",
       "text": [
        " 673\n",
        "5422 674\n",
        "5422 675\n",
        "5520"
       ]
      },
      {
       "output_type": "stream",
       "stream": "stdout",
       "text": [
        " 676\n",
        "5522"
       ]
      },
      {
       "output_type": "stream",
       "stream": "stdout",
       "text": [
        " 677\n",
        "5523"
       ]
      },
      {
       "output_type": "stream",
       "stream": "stdout",
       "text": [
        " 678\n",
        "5641"
       ]
      },
      {
       "output_type": "stream",
       "stream": "stdout",
       "text": [
        " 679\n",
        "5640"
       ]
      },
      {
       "output_type": "stream",
       "stream": "stdout",
       "text": [
        " 680\n",
        "5161"
       ]
      },
      {
       "output_type": "stream",
       "stream": "stdout",
       "text": [
        " 681\n",
        "5161 682\n",
        "5161 683\n",
        "5162"
       ]
      },
      {
       "output_type": "stream",
       "stream": "stdout",
       "text": [
        " 684\n",
        "5162 685\n",
        "5162 686\n",
        "5162 687\n",
        "5162 688\n",
        "5162 689\n",
        "5162 690\n",
        "5162 691\n",
        "5162 692\n",
        "5162 693\n",
        "5162 694\n",
        "5162 695\n",
        "5162 696\n",
        "5162 697\n",
        "5163"
       ]
      },
      {
       "output_type": "stream",
       "stream": "stdout",
       "text": [
        " 698\n",
        "5163 699\n",
        "5163 700\n",
        "5164"
       ]
      },
      {
       "output_type": "stream",
       "stream": "stdout",
       "text": [
        " 701\n",
        "5164 702\n",
        "5164 703\n",
        "5164 704\n",
        "5165"
       ]
      },
      {
       "output_type": "stream",
       "stream": "stdout",
       "text": [
        " 705\n",
        "5165 706\n",
        "5165 707\n",
        "5166"
       ]
      },
      {
       "output_type": "stream",
       "stream": "stdout",
       "text": [
        " 708\n",
        "5166 709\n",
        "5167"
       ]
      },
      {
       "output_type": "stream",
       "stream": "stdout",
       "text": [
        " 710\n",
        "5167 711\n",
        "5168"
       ]
      },
      {
       "output_type": "stream",
       "stream": "stdout",
       "text": [
        " 712\n",
        "5168 713\n",
        "5168 714\n",
        "5169"
       ]
      },
      {
       "output_type": "stream",
       "stream": "stdout",
       "text": [
        " 715\n",
        "5169 716\n",
        "5169 717\n",
        "5169 718\n",
        "5734"
       ]
      },
      {
       "output_type": "stream",
       "stream": "stdout",
       "text": [
        " 719\n",
        "5731"
       ]
      },
      {
       "output_type": "stream",
       "stream": "stdout",
       "text": [
        " 720\n",
        "5733"
       ]
      },
      {
       "output_type": "stream",
       "stream": "stdout",
       "text": [
        " 721\n",
        "5048"
       ]
      },
      {
       "output_type": "stream",
       "stream": "stdout",
       "text": [
        " 722\n",
        "5048 723\n",
        "5048 724\n",
        "5048 725\n",
        "5048 726\n",
        "5047"
       ]
      },
      {
       "output_type": "stream",
       "stream": "stdout",
       "text": [
        " 727\n",
        "5047 728\n",
        "5047 729\n",
        "5046"
       ]
      },
      {
       "output_type": "stream",
       "stream": "stdout",
       "text": [
        " 730\n",
        "5046 731\n",
        "5045"
       ]
      },
      {
       "output_type": "stream",
       "stream": "stdout",
       "text": [
        " 732\n",
        "5045 733\n",
        "5045 734\n",
        "5045 735\n",
        "5044"
       ]
      },
      {
       "output_type": "stream",
       "stream": "stdout",
       "text": [
        " 736\n",
        "5044 737\n",
        "5043"
       ]
      },
      {
       "output_type": "stream",
       "stream": "stdout",
       "text": [
        " 738\n",
        "5043 739\n",
        "5043 740\n",
        "5043 741\n",
        "5043 742\n",
        "5043 743\n",
        "5043 744\n",
        "5043 745\n",
        "5043 746\n",
        "5042"
       ]
      },
      {
       "output_type": "stream",
       "stream": "stdout",
       "text": [
        " 747\n",
        "5042 748\n",
        "5042 749\n",
        "5042 750\n",
        "5041"
       ]
      },
      {
       "output_type": "stream",
       "stream": "stdout",
       "text": [
        " 751\n",
        "5041 752\n",
        "5041 753\n",
        "5041 754\n",
        "5040"
       ]
      },
      {
       "output_type": "stream",
       "stream": "stdout",
       "text": [
        " 755\n",
        "5040 756\n",
        "5631"
       ]
      },
      {
       "output_type": "stream",
       "stream": "stdout",
       "text": [
        " 757\n",
        "5633"
       ]
      },
      {
       "output_type": "stream",
       "stream": "stdout",
       "text": [
        " 758\n",
        "5381"
       ]
      },
      {
       "output_type": "stream",
       "stream": "stdout",
       "text": [
        " 759\n"
       ]
      }
     ],
     "prompt_number": 21
    },
    {
     "cell_type": "code",
     "collapsed": false,
     "input": [
      "#Now let's do it again for some more postcodes - this time from http://www.postcodes-australia.com/state-postcodes/sa\n",
      "\n",
      "postcodes2 = set()\n",
      "with open('sapcodes2.csv', 'rU') as csvfile:\n",
      "    spamreader = csv.reader(csvfile, delimiter=' ', quotechar='|')\n",
      "    for row in spamreader:\n",
      "        postcodes2.add(row[0])\n",
      "\n",
      "# Let's see how different they are\n",
      "for p in postcodes2:\n",
      "    if p not in postcodes:\n",
      "        print p \n"
     ],
     "language": "python",
     "metadata": {},
     "outputs": [
      {
       "output_type": "stream",
       "stream": "stdout",
       "text": [
        "5312\n"
       ]
      }
     ],
     "prompt_number": 30
    },
    {
     "cell_type": "code",
     "collapsed": false,
     "input": [
      "# Let's see if there are any schools at postcode 5312... no output means no schools\n",
      "test = requests.get(\"http://www.myschool.edu.au/SchoolSearch/GlobalSearch?term=%s&count=1000\"%5312)\n",
      "for item in json.loads(test.content):\n",
      "    print item"
     ],
     "language": "python",
     "metadata": {},
     "outputs": [],
     "prompt_number": 31
    },
    {
     "cell_type": "code",
     "collapsed": false,
     "input": [
      "# Now let's save our schools ID as a csv\n",
      "with open('schools2014.csv', 'wb') as csvfile:\n",
      "    spamwriter = csv.writer(csvfile)\n",
      "    for s in schools:\n",
      "        spamwriter.writerow([s])\n"
     ],
     "language": "python",
     "metadata": {},
     "outputs": [],
     "prompt_number": 24
    },
    {
     "cell_type": "code",
     "collapsed": false,
     "input": [],
     "language": "python",
     "metadata": {},
     "outputs": []
    }
   ],
   "metadata": {}
  }
 ]
}