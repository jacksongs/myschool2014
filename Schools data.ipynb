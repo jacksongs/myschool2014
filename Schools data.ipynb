{
 "metadata": {
  "name": ""
 },
 "nbformat": 3,
 "nbformat_minor": 0,
 "worksheets": [
  {
   "cells": [
    {
     "cell_type": "code",
     "collapsed": false,
     "input": [
      "from selenium import webdriver\n",
      "from selenium.webdriver.support.wait import WebDriverWait\n",
      "from bs4 import BeautifulSoup\n",
      "from selenium.webdriver.support import expected_conditions as EC\n",
      "import selenium.webdriver.support.ui as ui\n",
      "import pandas as pd\n",
      "import csv\n",
      "\n",
      "cooks = []\n",
      "driver = webdriver.Firefox()\n",
      "df = pd.DataFrame(columns=[],index=[])\n",
      "#this is the function for getting profile stats for each school for each year\n",
      "def proffer(year,soup):\n",
      "    pr = {}\n",
      "    pr[\"Year\"] = year\n",
      "    try:\n",
      "        hep = soup.find_all('th')\n",
      "        for i,h in enumerate(hep):\n",
      "            if h.text.strip().encode('ascii', 'ignore') in ['School sector','School type','Year range',\n",
      "                                                  'Total enrolments','Location','Teaching staff',\n",
      "                                                  'Full-time equivalent teaching staff',\n",
      "                                                  'Non-teaching staff',\n",
      "                                                  'Full-time equivalent non-teaching staff',\n",
      "                                                  'School ICSEA value','Average ICSEA value',\n",
      "                                                  'Girls','Boys','Full-time equivalent enrolments',\n",
      "                                                  'Indigenous students',\n",
      "                                                  'Language background other than English3',\n",
      "                                                  'Student attendance rate','VET enrolments',\n",
      "                                                  'School-based apprenticeships and traineeships',\n",
      "                                                  'Senior secondary certificate awarded',\n",
      "                                                  'Completed senior secondary school']:\n",
      "                #print 's','|'+h.text.strip()+'|',h.next_sibling.next_sibling.text.strip()\n",
      "                pr[h.text.strip().encode('ascii', 'ignore')] = h.next_sibling.next_sibling.text.strip()\n",
      "            else:\n",
      "                pass\n",
      "        #results['Type'] = soup.find('th').text.strip()\n",
      "    except Exception as e:\n",
      "        print 'a',e#cats.append(t.th.text+\" | \"+s)\n",
      "    return pr\n",
      "\n",
      "###and this is the same for the results\n",
      "def resser(year,soup):\n",
      "    re = {}\n",
      "    types = ['Reading','Writing','Spelling','Grammar','Numeracy']   \n",
      "    for a,s in enumerate(types):\n",
      "        for t in soup.find_all('tr',attrs={\"class\":\"selected-school-row\"}):\n",
      "            re[t.th.text+\" | \"+s] = t.contents[(a+1)*2+1].span.text\n",
      "    return re  \n",
      "\n",
      "\n",
      "schools = []\n",
      "with open('schools2014.csv', 'rU') as csvfile:\n",
      "    spamreader = csv.reader(csvfile, delimiter=' ', quotechar='|')\n",
      "    for row in spamreader:\n",
      "        schools.append(row[0])\n",
      "\n",
      "schdf = pd.read_csv('2014.csv')\n",
      "        \n",
      "#and this goes through all the schools\n",
      "for item,s in enumerate(schools):\n",
      "    print item,s\n",
      "    if int(s) in schdf['SMCLID'].unique():\n",
      "        print 'already in'\n",
      "    else:\n",
      "        ###Start with 2014\n",
      "        ###Profile info\n",
      "        results = {}\n",
      "        driver.get('http://myschool.edu.au/Home/Index/'+s)\n",
      "        for c in cooks:\n",
      "            if c[u'domain'] == u'myschool.edu.au':\n",
      "                #print c\n",
      "                driver.add_cookie(c)\n",
      "    \n",
      "        wait = ui.WebDriverWait(driver, 20) # timeout after 10 seconds\n",
      "        wait.until(lambda driver: driver.find_elements_by_class_name('content-padding-sidemenu'))\n",
      "        cooks = driver.get_cookies()\n",
      "        soup = BeautifulSoup(driver.page_source)\n",
      "            \n",
      "        try:\n",
      "            ###get links to all years of profile info\n",
      "            tabs = soup.find(\"ul\",attrs={\"role\":\"tablist\"})\n",
      "            items = tabs.find_all(\"li\")\n",
      "            profs = {}\n",
      "            for t in items:\n",
      "                profs[t.a.text] = t.a['href']\n",
      "    \n",
      "            #results in numbers\n",
      "            driver.get(driver.current_url.replace(\"SchoolProfile\",\"ResultsInNumbers\"))\n",
      "            soup = BeautifulSoup(driver.page_source)\n",
      "            \n",
      "            #get tab links\n",
      "            tabs = soup.find(\"ul\",attrs={\"role\":\"tablist\"})\n",
      "            itemr = tabs.find_all(\"li\")\n",
      "            resos = {}\n",
      "            for t in itemr:\n",
      "                resos[t.a.text] = t.a['href']\n",
      "                \n",
      "            #finances\n",
      "            driver.get(driver.current_url.replace(\"ResultsInNumbers\",\"Finance\"))\n",
      "            soup = BeautifulSoup(driver.page_source)\n",
      "    \n",
      "            #get tab links\n",
      "            tabs = soup.find(\"ul\",attrs={\"role\":\"tablist\"})\n",
      "            itemr = tabs.find_all(\"li\")\n",
      "            finos = {}\n",
      "            for t in itemr:\n",
      "                finos[t.a.text] = t.a['href']\n",
      "    \n",
      "            #Now do it  for each year:\n",
      "            yos = ['2014','2013','2012','2011','2010','2009','2008']\n",
      "            for u in yos:\n",
      "                if u in profs.keys():\n",
      "                    results = {}\n",
      "                        \n",
      "                    #get profile\n",
      "                    if profs[u] != '#':\n",
      "                        try:\n",
      "                            driver.get('http://myschool.edu.au'+profs[u])\n",
      "                            wait = ui.WebDriverWait(driver, 20) # timeout after 10 seconds\n",
      "                            wait.until(lambda driver: driver.find_elements_by_class_name('content-padding-sidemenu'))\n",
      "                            cooks = driver.get_cookies()\n",
      "                            soup = BeautifulSoup(driver.page_source)\n",
      "                        except Exception as e:\n",
      "                            print 'd',e\n",
      "                            break\n",
      "                        results.update(proffer(u,soup))\n",
      "                    \n",
      "                    #get results\n",
      "                    if resos[u] != '#':\n",
      "                        try:\n",
      "                            driver.get('http://myschool.edu.au'+resos[u])\n",
      "                            soup = BeautifulSoup(driver.page_source)\n",
      "                        except Exception as e:\n",
      "                            print 'e',e\n",
      "                        results.update(resser(u,soup))\n",
      "                        #some generic numbers\n",
      "                        try:\n",
      "                            results['SMCLID'] = s\n",
      "                            results['Name'] = name\n",
      "                        except Exception as e:\n",
      "                            print 'b',e#cats.append(t.th.text+\" | \"+s)\n",
      "                        \n",
      "                    #and now for the finances\n",
      "                    if finos[u] !='#':\n",
      "                        try:\n",
      "                            driver.get('http://myschool.edu.au'+finos[u])\n",
      "                            soup = BeautifulSoup(driver.page_source)\n",
      "                        except Exception as e:\n",
      "                            print 'f',e\n",
      "                        for d in soup.find_all(\"td\",attrs={\"class\":\"finance-number\"}):\n",
      "                                try:\n",
      "                                    if d.parent.contents[7].text.strip() == d.text.strip():\n",
      "                                        results[d.parent.contents[5].text.strip()] = d.text.strip()\n",
      "                                except:\n",
      "                                    pass\n",
      "                    if results != {}:\n",
      "                        rs = pd.DataFrame(results,index=[1])\n",
      "                        df = df.append(rs,ignore_index=True)\n",
      "                        df.to_csv('2014.csv')\n",
      "        except Exception as e:\n",
      "            print 'z',e"
     ],
     "language": "python",
     "metadata": {},
     "outputs": [
      {
       "output_type": "stream",
       "stream": "stdout",
       "text": [
        "0 90780\n",
        "1"
       ]
      },
      {
       "output_type": "stream",
       "stream": "stdout",
       "text": [
        " 90787\n",
        "2"
       ]
      },
      {
       "output_type": "stream",
       "stream": "stdout",
       "text": [
        " 90786\n",
        "3"
       ]
      },
      {
       "output_type": "stream",
       "stream": "stdout",
       "text": [
        " 82292\n",
        "z"
       ]
      },
      {
       "output_type": "stream",
       "stream": "stdout",
       "text": [
        " 'NoneType' object has no attribute 'find_all'\n",
        "4 82290\n",
        "z"
       ]
      },
      {
       "output_type": "stream",
       "stream": "stdout",
       "text": [
        " 'NoneType' object has no attribute 'find_all'\n",
        "5 82296\n",
        "z"
       ]
      },
      {
       "output_type": "stream",
       "stream": "stdout",
       "text": [
        " 'NoneType' object has no attribute 'find_all'\n",
        "6 91580\n",
        "z"
       ]
      },
      {
       "output_type": "stream",
       "stream": "stdout",
       "text": [
        " 'NoneType' object has no attribute 'find_all'\n",
        "7 90784\n",
        "8"
       ]
      },
      {
       "output_type": "stream",
       "stream": "stdout",
       "text": [
        " 91574\n",
        "9"
       ]
      },
      {
       "output_type": "stream",
       "stream": "stdout",
       "text": [
        " 90897\n",
        "10"
       ]
      },
      {
       "output_type": "stream",
       "stream": "stdout",
       "text": [
        " 90628\n",
        "11"
       ]
      },
      {
       "output_type": "stream",
       "stream": "stdout",
       "text": [
        " 91023\n",
        "12"
       ]
      },
      {
       "output_type": "stream",
       "stream": "stdout",
       "text": [
        " 90725\n",
        "13"
       ]
      },
      {
       "output_type": "stream",
       "stream": "stdout",
       "text": [
        " 90724\n",
        "14"
       ]
      },
      {
       "output_type": "stream",
       "stream": "stdout",
       "text": [
        " 90727\n",
        "15"
       ]
      },
      {
       "output_type": "stream",
       "stream": "stdout",
       "text": [
        " 90726\n",
        "16"
       ]
      },
      {
       "output_type": "stream",
       "stream": "stdout",
       "text": [
        " 90721\n",
        "17"
       ]
      },
      {
       "output_type": "stream",
       "stream": "stdout",
       "text": [
        " 90720\n",
        "18"
       ]
      },
      {
       "output_type": "stream",
       "stream": "stdout",
       "text": [
        " 90723\n",
        "19"
       ]
      },
      {
       "output_type": "stream",
       "stream": "stdout",
       "text": [
        " 90722\n",
        "20"
       ]
      },
      {
       "output_type": "stream",
       "stream": "stdout",
       "text": [
        " 90729\n",
        "21"
       ]
      },
      {
       "output_type": "stream",
       "stream": "stdout",
       "text": [
        " 90728\n",
        "22"
       ]
      },
      {
       "output_type": "stream",
       "stream": "stdout",
       "text": [
        " 90896\n",
        "23"
       ]
      },
      {
       "output_type": "stream",
       "stream": "stdout",
       "text": [
        " 90629\n",
        "24"
       ]
      },
      {
       "output_type": "stream",
       "stream": "stdout",
       "text": [
        " 90852\n",
        "25"
       ]
      },
      {
       "output_type": "stream",
       "stream": "stdout",
       "text": [
        " 91022\n",
        "26"
       ]
      },
      {
       "output_type": "stream",
       "stream": "stdout",
       "text": [
        " 91058\n",
        "27"
       ]
      },
      {
       "output_type": "stream",
       "stream": "stdout",
       "text": [
        " 91110\n",
        "28"
       ]
      },
      {
       "output_type": "stream",
       "stream": "stdout",
       "text": [
        " 91113\n",
        "29"
       ]
      },
      {
       "output_type": "stream",
       "stream": "stdout",
       "text": [
        " 91112\n",
        "30"
       ]
      },
      {
       "output_type": "stream",
       "stream": "stdout",
       "text": [
        " 91115\n",
        "31"
       ]
      },
      {
       "output_type": "stream",
       "stream": "stdout",
       "text": [
        " 91114\n",
        "32"
       ]
      },
      {
       "output_type": "stream",
       "stream": "stdout",
       "text": [
        " 91117\n",
        "33"
       ]
      },
      {
       "output_type": "stream",
       "stream": "stdout",
       "text": [
        " 91116\n",
        "34"
       ]
      },
      {
       "output_type": "stream",
       "stream": "stdout",
       "text": [
        " 91119\n",
        "35"
       ]
      },
      {
       "output_type": "stream",
       "stream": "stdout",
       "text": [
        " 91051\n",
        "36"
       ]
      },
      {
       "output_type": "stream",
       "stream": "stdout",
       "text": [
        " 91052\n",
        "37"
       ]
      },
      {
       "output_type": "stream",
       "stream": "stdout",
       "text": [
        " 91053\n",
        "38"
       ]
      },
      {
       "output_type": "stream",
       "stream": "stdout",
       "text": [
        " 91054\n",
        "39"
       ]
      },
      {
       "output_type": "stream",
       "stream": "stdout",
       "text": [
        " 91055\n",
        "40"
       ]
      },
      {
       "output_type": "stream",
       "stream": "stdout",
       "text": [
        " 91056\n",
        "41"
       ]
      },
      {
       "output_type": "stream",
       "stream": "stdout",
       "text": [
        " 91057\n",
        "42"
       ]
      },
      {
       "output_type": "stream",
       "stream": "stdout",
       "text": [
        " 82340\n",
        "z"
       ]
      },
      {
       "output_type": "stream",
       "stream": "stdout",
       "text": [
        " 'NoneType' object has no attribute 'find_all'\n",
        "43 90687\n",
        "44"
       ]
      },
      {
       "output_type": "stream",
       "stream": "stdout",
       "text": [
        " 90618\n",
        "45"
       ]
      },
      {
       "output_type": "stream",
       "stream": "stdout",
       "text": [
        " 90941\n",
        "46"
       ]
      },
      {
       "output_type": "stream",
       "stream": "stdout",
       "text": [
        " 90940\n",
        "47"
       ]
      },
      {
       "output_type": "stream",
       "stream": "stdout",
       "text": [
        " 90943\n",
        "48"
       ]
      },
      {
       "output_type": "stream",
       "stream": "stdout",
       "text": [
        " 90564\n",
        "49"
       ]
      },
      {
       "output_type": "stream",
       "stream": "stdout",
       "text": [
        " 90945\n",
        "50"
       ]
      },
      {
       "output_type": "stream",
       "stream": "stdout",
       "text": [
        " 90944\n",
        "51"
       ]
      },
      {
       "output_type": "stream",
       "stream": "stdout",
       "text": [
        " 90947\n",
        "52"
       ]
      },
      {
       "output_type": "stream",
       "stream": "stdout",
       "text": [
        " 90946\n",
        "53"
       ]
      },
      {
       "output_type": "stream",
       "stream": "stdout",
       "text": [
        " 90949\n",
        "54"
       ]
      },
      {
       "output_type": "stream",
       "stream": "stdout",
       "text": [
        " 90948\n",
        "55"
       ]
      },
      {
       "output_type": "stream",
       "stream": "stdout",
       "text": [
        " 90538\n",
        "56"
       ]
      },
      {
       "output_type": "stream",
       "stream": "stdout",
       "text": [
        " 90539\n",
        "57"
       ]
      },
      {
       "output_type": "stream",
       "stream": "stdout",
       "text": [
        " 91456\n",
        "58"
       ]
      },
      {
       "output_type": "stream",
       "stream": "stdout",
       "text": [
        " 91457\n",
        "59"
       ]
      },
      {
       "output_type": "stream",
       "stream": "stdout",
       "text": [
        " 90435\n",
        "60"
       ]
      },
      {
       "output_type": "stream",
       "stream": "stdout",
       "text": [
        " 91028\n",
        "61"
       ]
      },
      {
       "output_type": "stream",
       "stream": "stdout",
       "text": [
        " 90437\n",
        "62"
       ]
      },
      {
       "output_type": "stream",
       "stream": "stdout",
       "text": [
        " 90436\n",
        "d"
       ]
      },
      {
       "output_type": "stream",
       "stream": "stdout",
       "text": [
        " Message: '' \n",
        "63 90826\n",
        "64"
       ]
      },
      {
       "output_type": "stream",
       "stream": "stdout",
       "text": [
        " 90827\n",
        "65"
       ]
      },
      {
       "output_type": "stream",
       "stream": "stdout",
       "text": [
        " 90824\n",
        "66"
       ]
      },
      {
       "output_type": "stream",
       "stream": "stdout",
       "text": [
        " 90533\n",
        "67"
       ]
      },
      {
       "output_type": "stream",
       "stream": "stdout",
       "text": [
        " 90822\n",
        "68"
       ]
      },
      {
       "output_type": "stream",
       "stream": "stdout",
       "text": [
        " 90823\n",
        "69"
       ]
      },
      {
       "output_type": "stream",
       "stream": "stdout",
       "text": [
        " 90536\n",
        "70"
       ]
      },
      {
       "output_type": "stream",
       "stream": "stdout",
       "text": [
        " 90537\n",
        "71"
       ]
      },
      {
       "output_type": "stream",
       "stream": "stdout",
       "text": [
        " 90568\n",
        "72"
       ]
      },
      {
       "output_type": "stream",
       "stream": "stdout",
       "text": [
        " 90484\n",
        "73"
       ]
      },
      {
       "output_type": "stream",
       "stream": "stdout",
       "text": [
        " 90485\n",
        "74"
       ]
      },
      {
       "output_type": "stream",
       "stream": "stdout",
       "text": [
        " 81906\n",
        "75"
       ]
      },
      {
       "output_type": "stream",
       "stream": "stdout",
       "text": [
        " 81905\n",
        "76"
       ]
      },
      {
       "output_type": "stream",
       "stream": "stdout",
       "text": [
        " 90510\n",
        "77"
       ]
      },
      {
       "output_type": "stream",
       "stream": "stdout",
       "text": [
        " 81909\n",
        "z"
       ]
      },
      {
       "output_type": "stream",
       "stream": "stdout",
       "text": [
        " 'NoneType' object has no attribute 'find_all'\n",
        "78 81908\n",
        "z"
       ]
      },
      {
       "output_type": "stream",
       "stream": "stdout",
       "text": [
        " 'NoneType' object has no attribute 'find_all'\n",
        "79 90794\n",
        "80"
       ]
      },
      {
       "output_type": "stream",
       "stream": "stdout",
       "text": [
        " 90488\n",
        "81"
       ]
      },
      {
       "output_type": "stream",
       "stream": "stdout",
       "text": [
        " 90796\n",
        "82"
       ]
      },
      {
       "output_type": "stream",
       "stream": "stdout",
       "text": [
        " 90797\n",
        "83"
       ]
      },
      {
       "output_type": "stream",
       "stream": "stdout",
       "text": [
        " 90790\n",
        "84"
       ]
      },
      {
       "output_type": "stream",
       "stream": "stdout",
       "text": [
        " 90791\n",
        "85"
       ]
      },
      {
       "output_type": "stream",
       "stream": "stdout",
       "text": [
        " 90792\n",
        "86"
       ]
      },
      {
       "output_type": "stream",
       "stream": "stdout",
       "text": [
        " 90562\n",
        "87"
       ]
      },
      {
       "output_type": "stream",
       "stream": "stdout",
       "text": [
        " 90798\n",
        "88"
       ]
      },
      {
       "output_type": "stream",
       "stream": "stdout",
       "text": [
        " 90561\n",
        "89"
       ]
      },
      {
       "output_type": "stream",
       "stream": "stdout",
       "text": [
        " 90855\n",
        "90"
       ]
      },
      {
       "output_type": "stream",
       "stream": "stdout",
       "text": [
        " 91097\n",
        "91"
       ]
      },
      {
       "output_type": "stream",
       "stream": "stdout",
       "text": [
        " 90996\n",
        "92"
       ]
      },
      {
       "output_type": "stream",
       "stream": "stdout",
       "text": [
        " 90506\n",
        "93"
       ]
      },
      {
       "output_type": "stream",
       "stream": "stdout",
       "text": [
        " 90567\n",
        "94"
       ]
      },
      {
       "output_type": "stream",
       "stream": "stdout",
       "text": [
        " 91091\n",
        "95"
       ]
      },
      {
       "output_type": "stream",
       "stream": "stdout",
       "text": [
        " 90893\n",
        "96"
       ]
      },
      {
       "output_type": "stream",
       "stream": "stdout",
       "text": [
        " 90892\n",
        "97"
       ]
      },
      {
       "output_type": "stream",
       "stream": "stdout",
       "text": [
        " 90890\n",
        "98"
       ]
      },
      {
       "output_type": "stream",
       "stream": "stdout",
       "text": [
        " 90549\n",
        "99"
       ]
      },
      {
       "output_type": "stream",
       "stream": "stdout",
       "text": [
        " 90565\n",
        "100"
       ]
      },
      {
       "output_type": "stream",
       "stream": "stdout",
       "text": [
        " 90895\n",
        "101"
       ]
      },
      {
       "output_type": "stream",
       "stream": "stdout",
       "text": [
        " 90922\n",
        "102"
       ]
      },
      {
       "output_type": "stream",
       "stream": "stdout",
       "text": [
        " 90545\n",
        "103"
       ]
      },
      {
       "output_type": "stream",
       "stream": "stdout",
       "text": [
        " 90544\n",
        "104"
       ]
      },
      {
       "output_type": "stream",
       "stream": "stdout",
       "text": [
        " 90899\n",
        "105"
       ]
      },
      {
       "output_type": "stream",
       "stream": "stdout",
       "text": [
        " 90898\n",
        "106"
       ]
      },
      {
       "output_type": "stream",
       "stream": "stdout",
       "text": [
        " 90541\n",
        "107"
       ]
      },
      {
       "output_type": "stream",
       "stream": "stdout",
       "text": [
        " 90612\n",
        "108"
       ]
      },
      {
       "output_type": "stream",
       "stream": "stdout",
       "text": [
        " 90543\n",
        "109"
       ]
      },
      {
       "output_type": "stream",
       "stream": "stdout",
       "text": [
        " 90542\n",
        "110"
       ]
      },
      {
       "output_type": "stream",
       "stream": "stdout",
       "text": [
        " 90920\n",
        "d"
       ]
      },
      {
       "ename": "TimeoutException",
       "evalue": "Message: '' ",
       "output_type": "pyerr",
       "traceback": [
        "\u001b[0;31m---------------------------------------------------------------------------\u001b[0m\n\u001b[0;31mTimeoutException\u001b[0m                          Traceback (most recent call last)",
        "\u001b[0;32m<ipython-input-34-f45223084238>\u001b[0m in \u001b[0;36m<module>\u001b[0;34m()\u001b[0m\n\u001b[1;32m     73\u001b[0m \u001b[0;34m\u001b[0m\u001b[0m\n\u001b[1;32m     74\u001b[0m         \u001b[0mwait\u001b[0m \u001b[0;34m=\u001b[0m \u001b[0mui\u001b[0m\u001b[0;34m.\u001b[0m\u001b[0mWebDriverWait\u001b[0m\u001b[0;34m(\u001b[0m\u001b[0mdriver\u001b[0m\u001b[0;34m,\u001b[0m \u001b[0;36m20\u001b[0m\u001b[0;34m)\u001b[0m \u001b[0;31m# timeout after 10 seconds\u001b[0m\u001b[0;34m\u001b[0m\u001b[0m\n\u001b[0;32m---> 75\u001b[0;31m         \u001b[0mwait\u001b[0m\u001b[0;34m.\u001b[0m\u001b[0muntil\u001b[0m\u001b[0;34m(\u001b[0m\u001b[0;32mlambda\u001b[0m \u001b[0mdriver\u001b[0m\u001b[0;34m:\u001b[0m \u001b[0mdriver\u001b[0m\u001b[0;34m.\u001b[0m\u001b[0mfind_elements_by_class_name\u001b[0m\u001b[0;34m(\u001b[0m\u001b[0;34m'content-padding-sidemenu'\u001b[0m\u001b[0;34m)\u001b[0m\u001b[0;34m)\u001b[0m\u001b[0;34m\u001b[0m\u001b[0m\n\u001b[0m\u001b[1;32m     76\u001b[0m         \u001b[0mcooks\u001b[0m \u001b[0;34m=\u001b[0m \u001b[0mdriver\u001b[0m\u001b[0;34m.\u001b[0m\u001b[0mget_cookies\u001b[0m\u001b[0;34m(\u001b[0m\u001b[0;34m)\u001b[0m\u001b[0;34m\u001b[0m\u001b[0m\n\u001b[1;32m     77\u001b[0m         \u001b[0msoup\u001b[0m \u001b[0;34m=\u001b[0m \u001b[0mBeautifulSoup\u001b[0m\u001b[0;34m(\u001b[0m\u001b[0mdriver\u001b[0m\u001b[0;34m.\u001b[0m\u001b[0mpage_source\u001b[0m\u001b[0;34m)\u001b[0m\u001b[0;34m\u001b[0m\u001b[0m\n",
        "\u001b[0;32m/Users/jacksongs/.virtualenvs/data/lib/python2.7/site-packages/selenium/webdriver/support/wait.pyc\u001b[0m in \u001b[0;36muntil\u001b[0;34m(self, method, message)\u001b[0m\n\u001b[1;32m     69\u001b[0m             \u001b[0;32mif\u001b[0m\u001b[0;34m(\u001b[0m\u001b[0mtime\u001b[0m\u001b[0;34m.\u001b[0m\u001b[0mtime\u001b[0m\u001b[0;34m(\u001b[0m\u001b[0;34m)\u001b[0m \u001b[0;34m>\u001b[0m \u001b[0mend_time\u001b[0m\u001b[0;34m)\u001b[0m\u001b[0;34m:\u001b[0m\u001b[0;34m\u001b[0m\u001b[0m\n\u001b[1;32m     70\u001b[0m                 \u001b[0;32mbreak\u001b[0m\u001b[0;34m\u001b[0m\u001b[0m\n\u001b[0;32m---> 71\u001b[0;31m         \u001b[0;32mraise\u001b[0m \u001b[0mTimeoutException\u001b[0m\u001b[0;34m(\u001b[0m\u001b[0mmessage\u001b[0m\u001b[0;34m)\u001b[0m\u001b[0;34m\u001b[0m\u001b[0m\n\u001b[0m\u001b[1;32m     72\u001b[0m \u001b[0;34m\u001b[0m\u001b[0m\n\u001b[1;32m     73\u001b[0m     \u001b[0;32mdef\u001b[0m \u001b[0muntil_not\u001b[0m\u001b[0;34m(\u001b[0m\u001b[0mself\u001b[0m\u001b[0;34m,\u001b[0m \u001b[0mmethod\u001b[0m\u001b[0;34m,\u001b[0m \u001b[0mmessage\u001b[0m\u001b[0;34m=\u001b[0m\u001b[0;34m''\u001b[0m\u001b[0;34m)\u001b[0m\u001b[0;34m:\u001b[0m\u001b[0;34m\u001b[0m\u001b[0m\n",
        "\u001b[0;31mTimeoutException\u001b[0m: Message: '' "
       ]
      },
      {
       "output_type": "stream",
       "stream": "stdout",
       "text": [
        " Message: '' \n",
        "111 90924\n"
       ]
      }
     ],
     "prompt_number": 34
    },
    {
     "cell_type": "code",
     "collapsed": false,
     "input": [],
     "language": "python",
     "metadata": {},
     "outputs": [],
     "prompt_number": 32
    },
    {
     "cell_type": "code",
     "collapsed": false,
     "input": [],
     "language": "python",
     "metadata": {},
     "outputs": [],
     "prompt_number": 32
    },
    {
     "cell_type": "code",
     "collapsed": false,
     "input": [],
     "language": "python",
     "metadata": {},
     "outputs": [],
     "prompt_number": 32
    },
    {
     "cell_type": "code",
     "collapsed": false,
     "input": [],
     "language": "python",
     "metadata": {},
     "outputs": [],
     "prompt_number": 32
    },
    {
     "cell_type": "code",
     "collapsed": false,
     "input": [],
     "language": "python",
     "metadata": {},
     "outputs": []
    }
   ],
   "metadata": {}
  }
 ]
}